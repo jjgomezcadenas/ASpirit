{
 "cells": [
  {
   "cell_type": "code",
   "execution_count": 182,
   "id": "ca69b7c3-827b-4f0e-abaa-b7f982d10de2",
   "metadata": {},
   "outputs": [
    {
     "data": {
      "text/plain": [
       "<module 'stats' from '/Users/samuele/Documents/Postdoc/NEXT/ASpirit/src/stats.py'>"
      ]
     },
     "execution_count": 182,
     "metadata": {},
     "output_type": "execute_result"
    }
   ],
   "source": [
    "import pandas as pd\n",
    "import os\n",
    "import sys\n",
    "import numpy as np\n",
    "import matplotlib.pyplot as plt\n",
    "from scipy.optimize import curve_fit\n",
    "from matplotlib.colors import LogNorm\n",
    "from scipy.interpolate import interp1d\n",
    "\n",
    "module_dir = os.path.abspath('../src')  # Adjust path as needed\n",
    "sys.path.append(module_dir)\n",
    "\n",
    "from parser_fun import merge_hdfs_multi\n",
    "from plot_functions import auto_plot_style\n",
    "from plot_functions import color_sequence\n",
    "import plot_functions as pf\n",
    "\n",
    "import analysis_functions as af\n",
    "import stats\n",
    "\n",
    "#Can be removed later\n",
    "import importlib\n",
    "importlib.reload(af)\n",
    "importlib.reload(stats)\n",
    "#"
   ]
  },
  {
   "cell_type": "code",
   "execution_count": null,
   "id": "2be5d135-90ea-4eda-9ec0-8aae243091c5",
   "metadata": {},
   "outputs": [],
   "source": [
    "folderdata = [\"/Users/samuele/Documents/Postdoc/NEXT/TrgEff/data/15502/\"]"
   ]
  },
  {
   "cell_type": "code",
   "execution_count": null,
   "id": "2ff43638-bfb1-49c3-9951-8f8ba04e166c",
   "metadata": {},
   "outputs": [],
   "source": [
    "df = merge_hdfs_multi(folderdata)"
   ]
  },
  {
   "cell_type": "code",
   "execution_count": null,
   "id": "acda7ca9-aefd-40dc-ba3d-378fa3644195",
   "metadata": {},
   "outputs": [],
   "source": []
  },
  {
   "cell_type": "code",
   "execution_count": null,
   "id": "c4fc5545-9c7b-4b93-a61f-db4d00335346",
   "metadata": {},
   "outputs": [],
   "source": [
    "# Create a figure with three subplots in a row\n",
    "fig, axes = plt.subplots(1, 2, figsize=(15, 6))\n",
    "auto_plot_style()\n",
    "\n",
    "# Plot histogram of df_sel['s1w']\n",
    "axes[0].hist(df[df['s2_peak']==0]['nS1'], bins=30, range=[0,30], histtype='step', color = color_sequence[0], alpha=0.7)\n",
    "axes[0].set_xlabel('nS1')\n",
    "axes[0].set_title('Distribution of nS1')\n",
    "axes[0].set_yscale('log')\n",
    "\n",
    "# Plot histogram of df_sel['s1e']\n",
    "axes[1].hist(df[df['s2_peak']==0]['nS2'], bins=30, range = [0,30], histtype='step',color = color_sequence[0], alpha=0.7)\n",
    "axes[1].set_xlabel('nS2')\n",
    "axes[1].set_yscale('log')\n",
    "axes[1].set_title('Distribution of nS2')\n",
    "\n",
    "# Adjust layout for better spacing\n",
    "plt.tight_layout()"
   ]
  },
  {
   "cell_type": "code",
   "execution_count": null,
   "id": "b582807c-c399-4b16-93f6-9db2b11a2fd7",
   "metadata": {},
   "outputs": [],
   "source": [
    "# Compute the 2D histogram data without plotting\n",
    "counts, xedges, yedges = np.histogram2d(df['DT'], df['Zrms'], bins=200, range = ([0,1350],[0,8]))\n",
    "\n",
    "# Mask bins with counts ≤ 1\n",
    "counts[counts <= 1] = np.nan  # Convert low-count bins to NaN (displayed as white)\n",
    "\n",
    "# Create the 2D histogram plot with masked data\n",
    "plt.figure(figsize=(12, 8),dpi=180)\n",
    "\n",
    "plt.pcolormesh(xedges, yedges, counts.T, cmap='viridis')\n",
    "# Add labels and title\n",
    "plt.xlabel('DT')\n",
    "plt.ylabel('Zrms')\n",
    "\n",
    "# Add colorbar to indicate counts\n",
    "plt.colorbar(label='Counts')\n",
    "plt.tight_layout()\n",
    "plt.show()\n"
   ]
  },
  {
   "cell_type": "markdown",
   "id": "0ae64a8d-3c48-4453-a9e1-ab038f2a5d72",
   "metadata": {},
   "source": [
    "### Diffusion band selection"
   ]
  },
  {
   "cell_type": "code",
   "execution_count": null,
   "id": "e8eb3f2f-914d-40e1-b8c7-62613e9cfd16",
   "metadata": {},
   "outputs": [],
   "source": [
    "def sqrt_function(x, A, x0):\n",
    "    return A * np.sqrt(x - x0)\n",
    "\n",
    "counts, xedges, yedges = np.histogram2d(\n",
    "    df[(df['DT'] > 50) & (df['DT'] < 1250)]['DT'],\n",
    "    df[(df['DT'] > 50) & (df['DT'] < 1250)]['Zrms'],\n",
    "    bins=(100, 300), range=([0, 1350], [0, 8])\n",
    ")\n",
    "\n",
    "dt_centers, mean_vals, mean_errs, sigma, sigma_errs = af.gaussian_profiler_y(counts, xedges, yedges)\n",
    "\n",
    "popt_sqrt, pcov_sqrt = curve_fit(sqrt_function, dt_centers, mean_vals, sigma=mean_errs, p0=[0.1,-0.1])\n",
    "\n",
    "plt.figure(figsize=(12, 8), dpi=180)\n",
    "\n",
    "# Plot 2D histogram\n",
    "plt.imshow(\n",
    "    counts.T,\n",
    "    extent=[xedges[0], xedges[-1], yedges[0], yedges[-1]],\n",
    "    aspect='auto',\n",
    "    origin='lower',\n",
    "    cmap='viridis'\n",
    ")\n",
    "\n",
    "# Overlay mean values and fit\n",
    "plt.errorbar(dt_centers, mean_vals, yerr=sigma, fmt='.', markersize=.7, linewidth=.5, color='white', label='Gaussian μ')\n",
    "xfit = np.linspace(min(dt_centers), max(dt_centers), 500)\n",
    "\n",
    "plt.plot(xfit, sqrt_function(xfit, *popt_sqrt), 'b-', linewidth=.5, label=f'Fit: A·√(x - x₀)\\nA={popt_sqrt[0]:.3f}, x₀={popt_sqrt[1]:.2f}')\n",
    "\n",
    "y_center = sqrt_function(xfit, *popt_sqrt)\n",
    "lower_bound = y_center - 0.1 - 0.06 * y_center\n",
    "upper_bound = y_center + 0.2 + 0.02 * y_center\n",
    "\n",
    "plt.plot(xfit, lower_bound, 'm--', linewidth=1., label='Lower Bound')\n",
    "plt.plot(xfit, upper_bound, 'm--', linewidth=1., label='Upper Bound')\n",
    "\n",
    "# Labels and aesthetics\n",
    "plt.xlabel('DT')\n",
    "plt.ylabel('Zrms')\n",
    "plt.colorbar(label='Counts')\n",
    "plt.grid(False)\n",
    "plt.legend(fontsize=10)\n",
    "plt.tight_layout()"
   ]
  },
  {
   "cell_type": "code",
   "execution_count": null,
   "id": "44725514-a457-4597-b6bb-b6d126a41f9f",
   "metadata": {},
   "outputs": [],
   "source": [
    "df_sel_diff = df[ (df['Zrms'] > sqrt_function(df['DT'],*popt_sqrt)-0.1-0.06*sqrt_function(df['DT'],*popt_sqrt) ) \n",
    "                    & (df['Zrms'] < sqrt_function(df['DT'],*popt_sqrt)+0.2+0.02*sqrt_function(df['DT'],*popt_sqrt) )  ]\n",
    "\n",
    "print(f\"NEvent filtered road : {len(np.unique(df_sel_diff['event']))}\")\n",
    "print(f\"eff:{(len(np.unique(df_sel_diff['event']))/len(np.unique(df['event'])))*100:.2f}%\")"
   ]
  },
  {
   "cell_type": "markdown",
   "id": "4f84139a-ef12-4c9e-8463-fe948daea78f",
   "metadata": {},
   "source": [
    "### 1S1 & 1S2 left selection"
   ]
  },
  {
   "cell_type": "code",
   "execution_count": null,
   "id": "6b204865-006c-45e1-9d04-09d6e268b135",
   "metadata": {},
   "outputs": [],
   "source": [
    "df_single_s1_peak = df_sel_diff.groupby('time').filter(lambda x: (x['s1_peak'].count() == 1) & (x['s2_peak'].count() == 1))\n",
    "\n",
    "print(f\"NEvent filtered road : {len(np.unique(df_single_s1_peak['event']))}\")\n",
    "print(f\"eff:{(len(np.unique(df_single_s1_peak['event']))/len(np.unique(df['event'])))*100:.2f}%\")"
   ]
  },
  {
   "cell_type": "markdown",
   "id": "59bfd2cc-bbe8-4f16-8de9-4de8b57ca540",
   "metadata": {},
   "source": [
    "### Geometric Selection"
   ]
  },
  {
   "cell_type": "code",
   "execution_count": null,
   "id": "2fbfa6a9-6b2e-4337-9cd9-cc7fb60aa41d",
   "metadata": {},
   "outputs": [],
   "source": [
    "#GeoSel\n",
    "rad = 480\n",
    "z = 1350\n",
    "\n",
    "# Create a figure with two subplots in a row\n",
    "fig, axes = plt.subplots(1, 2, figsize=(20, 8), dpi=120)\n",
    "\n",
    "# Plot histogram of X vs Y\n",
    "axes[0].hist2d(df_single_s1_peak['X'], df_single_s1_peak['Y'], bins=100, cmap='viridis')\n",
    "axes[0].set_xlabel('X')\n",
    "axes[0].set_ylabel('Y')\n",
    "axes[0].set_title('Histogram of X vs Y')\n",
    "plt.colorbar(axes[0].collections[0], ax=axes[0], label='Counts')\n",
    "\n",
    "# Generate points for the circumference\n",
    "theta = np.linspace(0, 2 * np.pi, 300)\n",
    "x_circle = 0 + rad * np.cos(theta)\n",
    "y_circle = 0 + rad * np.sin(theta)\n",
    "# Plot the circumference\n",
    "axes[0].plot(x_circle, y_circle, color='blue')\n",
    "\n",
    "# Plot histogram of X vs DT\n",
    "axes[1].hist(df_single_s1_peak['DT'], bins=150,histtype='step')\n",
    "axes[1].set_xlabel('DT')\n",
    "axes[1].set_title('Histogram of DT')\n",
    "#axes[1].set_ylim([0,4000])\n",
    "# Plot the vertical line at x = 1000\n",
    "axes[1].axvline(x=z, color='red', linestyle='--', label='Vertical Line (x=1000)')\n",
    "\n",
    "# Adjust layout for better spacing\n",
    "plt.tight_layout()\n",
    "plt.show()"
   ]
  },
  {
   "cell_type": "code",
   "execution_count": null,
   "id": "d193270b-0fe0-4d15-a3d8-a822ca978dd1",
   "metadata": {},
   "outputs": [],
   "source": [
    "df_single_s1_peak_geo = df_single_s1_peak[ (df_single_s1_peak['DT']<1350) & (np.sqrt(df_single_s1_peak['X']**2 + df_single_s1_peak['Y']**2)<480 )   ]\n",
    "\n",
    "print(f\"NEvent filtered road : {len(np.unique(df_single_s1_peak['event']))}\")\n",
    "print(f\"eff:{(len(np.unique(df_single_s1_peak_geo['event']))/len(np.unique(df['event'])))*100:.2f}%\")"
   ]
  },
  {
   "cell_type": "markdown",
   "id": "f0f1af91-978b-4483-9ae2-a364efff5b40",
   "metadata": {},
   "source": [
    "### Look at the data "
   ]
  },
  {
   "cell_type": "code",
   "execution_count": null,
   "id": "85a60873-6fe8-49f6-b163-cdd1f8c4f542",
   "metadata": {},
   "outputs": [],
   "source": [
    "# Plot the histogram of S2e\n",
    "plt.figure(figsize=(10, 6),dpi=120)\n",
    "counts, bins, patches = plt.hist(df_single_s1_peak_geo['S2e'], bins=800, range=[0, 12000], \n",
    "                                color='red', alpha=0.7, label='S2e Uncorrected')\n",
    "\n",
    "plt.xlabel('S2e (Pes)')\n",
    "plt.ylabel('Counts')\n",
    "plt.legend()\n",
    "plt.xlim([3000,12000])\n",
    "\n",
    "# Show the plot\n",
    "plt.grid(True, alpha=0.3)\n",
    "plt.tight_layout()\n",
    "plt.legend(fontsize=10)\n",
    "plt.show()"
   ]
  },
  {
   "cell_type": "code",
   "execution_count": null,
   "id": "d09ebd88-41ed-4cb7-a4b7-03bd617022c8",
   "metadata": {},
   "outputs": [],
   "source": [
    "plt.figure(figsize=(12, 8), dpi=120)\n",
    "\n",
    "counts, xedges, yedges = np.histogram2d(\n",
    "    df_single_s1_peak_geo['S1e'],\n",
    "    df_single_s1_peak_geo['S2e'],\n",
    "    bins=100,\n",
    "    range=[(0, 20), (3000, 12000)]\n",
    ")\n",
    "\n",
    "# Mask bins with counts < 1\n",
    "counts_masked = np.where(counts < 1, np.nan, counts)\n",
    "\n",
    "# Plot with pcolormesh\n",
    "X, Y = np.meshgrid(xedges, yedges)\n",
    "plt.pcolormesh(X, Y, counts_masked.T, cmap='viridis', shading='auto')  # transpose counts to align axes\n",
    "\n",
    "plt.colorbar(label='Counts')\n",
    "plt.xlabel('S1e (pes)')\n",
    "plt.ylabel('S2e (pes)')\n",
    "plt.tight_layout()\n",
    "plt.show()"
   ]
  },
  {
   "cell_type": "code",
   "execution_count": null,
   "id": "34f163a3-7121-4d59-9a34-3066624360f3",
   "metadata": {},
   "outputs": [],
   "source": [
    "# Create subplots\n",
    "fig, axes = plt.subplots(1, 2, figsize=(20, 8),dpi=120)\n",
    "\n",
    "df_single_s1_peak_geo['R'] = np.sqrt(df_single_s1_peak_geo['X']**2 + df_single_s1_peak_geo['Y']**2)\n",
    "\n",
    "# Plot 1: DT vs S2e\n",
    "counts1, xedges1, yedges1 = np.histogram2d(df_single_s1_peak_geo['DT'], df_single_s1_peak_geo['S2e'], bins=200, range=([0, 1500], [1000, 10000]))\n",
    "counts1[counts1 <= 1] = np.nan  # Mask bins with counts ≤ 1\n",
    "\n",
    "axes[0].pcolormesh(xedges1, yedges1, counts1.T, cmap='viridis')\n",
    "axes[0].set_xlabel('Drift Time ($\\mu$s)')\n",
    "axes[0].set_ylabel('S2e (pes)')\n",
    "fig.colorbar(axes[0].collections[0], ax=axes[0], label='Counts')\n",
    "\n",
    "# Compute histogram\n",
    "counts2, xedges2, yedges2 = np.histogram2d(\n",
    "    df_single_s1_peak_geo['R'],\n",
    "    df_single_s1_peak_geo['S2e'],\n",
    "    bins=130,\n",
    "    range=([0, 480], [1000, 10000])\n",
    ")\n",
    "\n",
    "# Plot 2: sqrt(X^2 + Y^2) vs S2e\n",
    "counts2, xedges2, yedges2 = np.histogram2d(df_single_s1_peak_geo['R'], df_single_s1_peak_geo['S2e'], bins=130, range=([0, 480], [1000, 10000]))\n",
    "counts2[counts2 <= 1] = np.nan  # Mask bins with counts ≤ 1\n",
    "\n",
    "axes[1].pcolormesh(xedges2, yedges2, counts2.T, cmap='plasma')\n",
    "axes[1].set_xlabel('R (mm)')\n",
    "axes[1].set_ylabel('S2e (pes)')\n",
    "fig.colorbar(axes[1].collections[0], ax=axes[1], label='Counts')\n",
    "\n",
    "# Adjust layout for better spacing\n",
    "plt.tight_layout()\n",
    "\n",
    "# Show the plot\n",
    "plt.show()"
   ]
  },
  {
   "cell_type": "code",
   "execution_count": null,
   "id": "2af5b928-e661-4e86-ad57-8a8422d28eaa",
   "metadata": {},
   "outputs": [],
   "source": [
    "# Step 3: Fit with exponential model\n",
    "def expo_model(R, A, R0, tau):\n",
    "    return A *(1- np.exp((R - R0) / tau))\n",
    "\n",
    "plt.figure(figsize=(8, 6), dpi=120)\n",
    "\n",
    "counts2, xedges2, yedges2 = np.histogram2d(df_single_s1_peak_geo['R'], df_single_s1_peak_geo['S2e'], bins=130, range=([0, 480], [1000, 10000]))\n",
    "dt_centers, mean_vals, mean_errs, sigma, sigma_errs = af.gaussian_profiler_y(counts2, xedges2, yedges2)\n",
    "\n",
    "counts2[counts2 <= 1] = np.nan  # Mask bins with counts ≤ 1\n",
    "\n",
    "p0=[8000, 600, 100]\n",
    "popt, _ = curve_fit(expo_model, dt_centers, mean_vals, p0=p0)\n",
    "\n",
    "plt.pcolormesh(xedges2, yedges2, counts2.T, cmap='plasma')\n",
    "plt.xlabel('R (mm)')\n",
    "plt.ylabel('S2e (pes)')\n",
    "fig.colorbar(axes[1].collections[0], ax=axes[1], label='Counts')\n",
    "plt.errorbar(dt_centers, mean_vals, yerr=sigma, fmt='.', markersize=.7, linewidth=.5, color='white', label='Gaussian μ')\n",
    "\n",
    "r_fit = np.linspace(0, 480, 500)\n",
    "plt.plot(r_fit, expo_model(r_fit, *popt), color='orange', linestyle='--', linewidth=1.5, label=f'Fit: A·exp(-(R - R₀)/τ)\\nA={popt[0]:.1f}, R₀={popt[1]:.1f}, τ={popt[2]:.1f}')\n",
    "plt.plot(r_fit, expo_model(r_fit, *popt)+900, color='red', linestyle='--', linewidth=1.5, label=f'Upper Bound')\n",
    "plt.plot(r_fit, expo_model(r_fit, *popt)-1600, color='red', linestyle='--', linewidth=1.7, label=f'Lower Bound')\n",
    "\n",
    "plt.legend(fontsize=8)\n",
    "# Adjust layout for better spacing\n",
    "plt.tight_layout()\n",
    "\n",
    "# Show the plot\n",
    "plt.show()"
   ]
  },
  {
   "cell_type": "code",
   "execution_count": null,
   "id": "ab44a66e-6985-496a-99fb-098f85b3a2dc",
   "metadata": {},
   "outputs": [],
   "source": [
    "Krdf = df_single_s1_peak_geo[(df_single_s1_peak_geo['S2e'] >= expo_model(df_single_s1_peak_geo['R'], *popt) - 1600) & \n",
    "                             (df_single_s1_peak_geo['S2e'] <= expo_model(df_single_s1_peak_geo['R'], *popt) + 900)]\n",
    "\n",
    "print(f\"NEvent filtered road : {len(np.unique(Krdf['event']))}\")\n",
    "print(f\"eff:{(len(np.unique(Krdf['event']))/len(np.unique(df['event'])))*100:.2f}%\")"
   ]
  },
  {
   "cell_type": "code",
   "execution_count": null,
   "id": "47007e4c-3a36-4936-bfc3-c1aabb055580",
   "metadata": {},
   "outputs": [],
   "source": [
    "bins_xy = 100\n",
    "z_bins = np.linspace(0,1350,30)\n",
    "krmap = af.compute_map3D(Krdf, bins_xy = bins_xy, z_bins=z_bins)"
   ]
  },
  {
   "cell_type": "code",
   "execution_count": null,
   "id": "06edaba4-91ad-4c55-bcba-d7cce95af686",
   "metadata": {},
   "outputs": [],
   "source": [
    "max_index = np.unravel_index(np.argmax(krmap.hratio), krmap.hratio.shape)\n",
    "hmap = np.divide(krmap.hratio, krmap.hratio[max_index], where=krmap.hcounts > 2)\n",
    "krmap.hmap = hmap"
   ]
  },
  {
   "cell_type": "code",
   "execution_count": null,
   "id": "c4e44d92-8ade-4671-a40e-5636ed467705",
   "metadata": {},
   "outputs": [],
   "source": [
    "af.plot_3d_histogram_slices(krmap.hmap, krmap.xedges, krmap.yedges, krmap.zedges, z_indices=[2, 4, 6, 8], figsize= (20, 16))"
   ]
  },
  {
   "cell_type": "code",
   "execution_count": null,
   "id": "cbe94aa7-1616-4cc0-b4b3-b9c784e957cd",
   "metadata": {},
   "outputs": [],
   "source": [
    "Krdf = af.correct_S2e(Krdf, krmap, rmax=480.0, zmax=1350.0)"
   ]
  },
  {
   "cell_type": "code",
   "execution_count": null,
   "id": "f0811174-feed-4c75-9c27-30e8b47d9115",
   "metadata": {},
   "outputs": [],
   "source": [
    "Krdf"
   ]
  },
  {
   "cell_type": "code",
   "execution_count": null,
   "id": "e6d6cf00-3132-4a99-9e6f-5fd27495405c",
   "metadata": {},
   "outputs": [],
   "source": [
    "plt.figure(figsize=(12, 8), dpi=120)\n",
    "\n",
    "# Plot S2e histogram\n",
    "plt.hist(Krdf['S2e'], bins=100, alpha=0.6, color='tab:blue', edgecolor='black', linewidth=0.5, label='Uncorrected Data')\n",
    "\n",
    "# Plot Epes histogram\n",
    "plt.hist(Krdf['Epes'], bins=100, alpha=0.6, color='tab:orange', edgecolor='black', linewidth=0.5, label='Corrected Data')\n",
    "\n",
    "# Aesthetic settings\n",
    "plt.xlabel('S2e (Pes)')\n",
    "plt.ylabel('Counts')\n",
    "plt.legend(fontsize=11)\n",
    "plt.grid(True, linestyle='--', alpha=0.4)\n",
    "plt.tight_layout()\n",
    "plt.show()"
   ]
  },
  {
   "cell_type": "code",
   "execution_count": null,
   "id": "f6a92236-fec6-43a2-90a0-65f7258352c0",
   "metadata": {},
   "outputs": [],
   "source": [
    "hp = af.HistoPar(var = Krdf['Epes']/Krdf['Epes'].mean()*41.5, nbins = 190, range = [34, 48])\n",
    "fp, fr = af.fit_energy(hp.var, hp.nbins, hp.range, n_sigma  = 1.7)\n",
    "fc = af.FitCollection(fp, hp, fr) \n",
    "plt.figure(figsize=(10, 6), dpi=120)\n",
    "af.plot_fit_energy(fc,\"Data Full Volume\")\n",
    "plt.legend(fontsize=12)\n",
    "plt.xlabel('Energy (keV)')\n",
    "plt.ylabel('Counts')"
   ]
  },
  {
   "cell_type": "code",
   "execution_count": null,
   "id": "4021ed7c-d56b-4d56-a0aa-d57a077ecf21",
   "metadata": {},
   "outputs": [],
   "source": [
    "hp = af.HistoPar(var = Krdf[Krdf['R']<400]['Epes']/Krdf[Krdf['R']<400]['Epes'].mean()*41.5, nbins = 190, range = [34, 48])\n",
    "fp, fr = af.fit_energy(hp.var, hp.nbins, hp.range, n_sigma  = 3)\n",
    "fc = af.FitCollection(fp, hp, fr) \n",
    "plt.figure(figsize=(10, 6), dpi=120)\n",
    "af.plot_fit_energy(fc,\"Data R < 400\")\n",
    "plt.legend(fontsize=12)\n",
    "plt.xlabel('Energy (keV)')\n",
    "plt.ylabel('Counts')"
   ]
  },
  {
   "cell_type": "code",
   "execution_count": null,
   "id": "49927efb-4d1d-408d-bfdc-07d69dba59b0",
   "metadata": {},
   "outputs": [],
   "source": [
    "hp = af.HistoPar(var = Krdf[(Krdf['R']<200) & (Krdf['DT']<200)]['Epes']/Krdf[(Krdf['R']<200) & (Krdf['DT']<200)]['Epes'].mean()*41.5, nbins = 190, range = [34, 48])\n",
    "fp, fr = af.fit_energy(hp.var, hp.nbins, hp.range, n_sigma  = 3)\n",
    "fc = af.FitCollection(fp, hp, fr) \n",
    "plt.figure(figsize=(10, 6), dpi=120)\n",
    "af.plot_fit_energy(fc,\"Data R < 200 DT < 200\")\n",
    "plt.legend(fontsize=12)\n",
    "plt.xlabel('Energy (keV)')\n",
    "plt.ylabel('Counts')"
   ]
  },
  {
   "cell_type": "code",
   "execution_count": null,
   "id": "a9ead72d-82cf-4afd-9c6f-57061e759d73",
   "metadata": {},
   "outputs": [],
   "source": [
    "plt.figure(figsize=(8, 6), dpi=120)\n",
    "\n",
    "counts2, xedges2, yedges2 = np.histogram2d(Krdf['R'], Krdf['Epes'], bins=(80,100), range=([0, 480], [6000, 12000]))\n",
    "r_centers, mean_vals_full_dt, mean_errs_full_dt, sigma_full_dt, sigma_errs_full_dt = af.gaussian_profiler_y_slices(counts2, xedges2, yedges2,12)\n",
    "\n",
    "counts2[counts2 <= 1] = np.nan  # Mask bins with counts ≤ 1\n",
    "\n",
    "plt.pcolormesh(xedges2, yedges2, counts2.T, cmap='plasma')\n",
    "plt.xlabel('R (mm)')\n",
    "plt.ylabel('S2e (pes)')\n",
    "fig.colorbar(axes[1].collections[0], ax=axes[1], label='Counts')\n",
    "plt.errorbar(r_centers, mean_vals_full_dt, yerr=sigma_full_dt, fmt='.', markersize=1.3, linewidth=1., color='w', label='Profiles')\n",
    "\n",
    "plt.title('S2e  Corrected vs R (Full Volume)')\n",
    "plt.legend(fontsize=12)\n",
    "# Adjust layout for better spacing\n",
    "plt.tight_layout()\n",
    "\n",
    "# Show the plot\n",
    "plt.show()"
   ]
  },
  {
   "cell_type": "code",
   "execution_count": null,
   "id": "9b37a3d8-2aba-40a2-a50a-265a61fdac45",
   "metadata": {},
   "outputs": [],
   "source": [
    "plt.figure(figsize=(8, 6), dpi=120)\n",
    "\n",
    "counts2, xedges2, yedges2 = np.histogram2d(Krdf[Krdf['DT']<200]['R'], Krdf[Krdf['DT']<200]['Epes'], bins=(80,100), range=([0, 480], [6000, 12000]))\n",
    "r_centers, mean_vals_small_dt, mean_errs_small_dt, sigma_small_dt, sigma_errs_small_dt = af.gaussian_profiler_y_slices(counts2, xedges2, yedges2,12)\n",
    "\n",
    "counts2[counts2 <= 1] = np.nan  # Mask bins with counts ≤ 1\n",
    "\n",
    "plt.pcolormesh(xedges2, yedges2, counts2.T, cmap='plasma')\n",
    "plt.xlabel('R (mm)')\n",
    "plt.ylabel('S2e (pes)')\n",
    "fig.colorbar(axes[1].collections[0], ax=axes[1], label='Counts')\n",
    "plt.errorbar(r_centers, mean_vals_small_dt, yerr=sigma_small_dt, fmt='.', markersize=1.3, linewidth=1., color='w', label='Profiles')\n",
    "\n",
    "plt.legend(fontsize=12)\n",
    "plt.title('S2e  Corrected vs R (DT<200)')\n",
    "# Adjust layout for better spacing\n",
    "plt.tight_layout()\n",
    "\n",
    "# Show the plot\n",
    "plt.show()"
   ]
  },
  {
   "cell_type": "code",
   "execution_count": null,
   "id": "0eef4316-14d2-46a4-acf4-528af0362d3d",
   "metadata": {},
   "outputs": [],
   "source": [
    "resolution_full, resolution_err_full = stats.compute_resolution_with_error(sigma_full_dt, sigma_errs_full_dt, mean_vals_full_dt, mean_errs_full_dt)\n",
    "resolution_small, resolution_err_small = stats.compute_resolution_with_error(sigma_small_dt, sigma_errs_small_dt, mean_vals_small_dt, mean_errs_small_dt)\n",
    "\n",
    "# Create subplots\n",
    "fig, (ax1, ax2) = plt.subplots(1, 2, figsize=(20, 8))\n",
    "\n",
    "# Plot 1: Mean vs. r_centers\n",
    "ax1.errorbar(r_centers, mean_vals_full_dt, yerr=mean_errs_full_dt,\n",
    "             fmt='o', capsize=3, markersize=8., label='Full Volume', color=color_sequence[0])\n",
    "ax1.errorbar(r_centers, mean_vals_small_dt, yerr=mean_errs_small_dt,\n",
    "             fmt='o', capsize=3, markersize=8., label='DT < 200', color=color_sequence[1])\n",
    "ax1.set_xlabel('Radius [mm]')\n",
    "ax1.set_ylabel('S2e (Pes)')\n",
    "ax1.grid(True, alpha=0.3)\n",
    "ax1.set_ylim(8680,8750)\n",
    "ax1.legend()\n",
    "\n",
    "# Plot 2: Resolution vs. r_centers\n",
    "ax2.errorbar(r_centers, resolution_full, yerr=resolution_err_full,\n",
    "             fmt='o', capsize=3, markersize=8., color=color_sequence[0], label='Full Volume')\n",
    "ax2.errorbar(r_centers, resolution_small, yerr=resolution_err_small,\n",
    "             fmt='o', capsize=3, markersize=8., color=color_sequence[1], label='DT < 200')\n",
    "ax2.set_xlabel('Radius [mm]')\n",
    "ax2.set_ylabel('Energy Resolution (%, FWHM)')\n",
    "ax2.grid(True, alpha=0.3)\n",
    "ax2.set_ylim(2,8)\n",
    "ax2.legend()\n",
    "\n",
    "plt.tight_layout()\n",
    "plt.show()"
   ]
  },
  {
   "cell_type": "code",
   "execution_count": null,
   "id": "bab9614f-827e-4481-94a0-4ab222fa20cd",
   "metadata": {},
   "outputs": [],
   "source": [
    "plt.figure(figsize=(8, 6), dpi=120)\n",
    "\n",
    "counts2, xedges2, yedges2 = np.histogram2d(Krdf[Krdf['R']<480]['DT'], Krdf[Krdf['R']<480]['Epes'], bins=(80,100), range=([0, 1350], [6000, 12000]))\n",
    "dt_centers, mean_vals_full_r, mean_errs_full_r, sigma_full_r, sigma_errs_full_r = af.gaussian_profiler_y_slices(counts2, xedges2, yedges2,12)\n",
    "\n",
    "counts2[counts2 <= 1] = np.nan  # Mask bins with counts ≤ 1\n",
    "\n",
    "plt.pcolormesh(xedges2, yedges2, counts2.T, cmap='plasma')\n",
    "plt.xlabel('Drift Time ($\\mu$s)')\n",
    "plt.ylabel('S2e (pes)')\n",
    "fig.colorbar(axes[1].collections[0], ax=axes[1], label='Counts')\n",
    "plt.errorbar(dt_centers, mean_vals_full_dt, yerr=sigma_full_dt, fmt='.', markersize=1.3, linewidth=1., color='w', label='Profiles')\n",
    "\n",
    "plt.legend(fontsize=12)\n",
    "plt.title('S2e  Corrected vs DT (Full Volume)')\n",
    "# Adjust layout for better spacing\n",
    "plt.tight_layout()\n",
    "\n",
    "# Show the plot\n",
    "plt.show()"
   ]
  },
  {
   "cell_type": "code",
   "execution_count": null,
   "id": "1090e3bd-e5d7-46c2-851e-c38a36002e30",
   "metadata": {},
   "outputs": [],
   "source": [
    "plt.figure(figsize=(8, 6), dpi=120)\n",
    "\n",
    "counts2, xedges2, yedges2 = np.histogram2d(Krdf[Krdf['R']<200]['DT'], Krdf[Krdf['R']<200]['Epes'], bins=(80,100), range=([0, 1350], [6000, 12000]))\n",
    "dt_centers, mean_vals_small_r, mean_errs_small_r, sigma_small_r, sigma_errs_small_r = af.gaussian_profiler_y_slices(counts2, xedges2, yedges2,12)\n",
    "\n",
    "counts2[counts2 <= 1] = np.nan  # Mask bins with counts ≤ 1\n",
    "\n",
    "plt.pcolormesh(xedges2, yedges2, counts2.T, cmap='plasma')\n",
    "plt.xlabel('Drift Time ($\\mu$s)')\n",
    "plt.ylabel('S2e (pes)')\n",
    "fig.colorbar(axes[1].collections[0], ax=axes[1], label='Counts')\n",
    "plt.errorbar(dt_centers, mean_vals_small_dt, yerr=sigma_small_dt, fmt='.', markersize=1.3, linewidth=1., color='w', label='Profiles')\n",
    "\n",
    "plt.legend(fontsize=12)\n",
    "plt.title('S2e  Corrected vs DT (R<200)')\n",
    "# Adjust layout for better spacing\n",
    "plt.tight_layout()\n",
    "\n",
    "# Show the plot\n",
    "plt.show()"
   ]
  },
  {
   "cell_type": "code",
   "execution_count": null,
   "id": "3e1d01c4-570a-4cd6-9135-9a165341b41d",
   "metadata": {},
   "outputs": [],
   "source": [
    "resolution_full, resolution_err_full = stats.compute_resolution_with_error(sigma_full_r, sigma_errs_full_r, mean_vals_full_r, mean_errs_full_r)\n",
    "resolution_small, resolution_err_small = stats.compute_resolution_with_error(sigma_small_r, sigma_errs_small_r, mean_vals_small_r, mean_errs_small_r)\n",
    "\n",
    "# Create subplots\n",
    "fig, (ax1, ax2) = plt.subplots(1, 2, figsize=(20, 8))\n",
    "\n",
    "# Plot 1: Mean vs. r_centers\n",
    "ax1.errorbar(dt_centers, mean_vals_full_r, yerr=mean_errs_full_dt,\n",
    "             fmt='o', capsize=3, markersize=8., label='Full Volume', color=color_sequence[0])\n",
    "ax1.errorbar(dt_centers, mean_vals_small_r, yerr=mean_errs_small_dt,\n",
    "             fmt='o', capsize=3, markersize=8., label='R < 200', color=color_sequence[1])\n",
    "ax1.set_xlabel('Radius [mm]')\n",
    "ax1.set_ylabel('S2e (Pes)')\n",
    "ax1.grid(True, alpha=0.3)\n",
    "ax1.set_ylim(8680,8750)\n",
    "ax1.legend()\n",
    "\n",
    "# Plot 2: Resolution vs. r_centers\n",
    "ax2.errorbar(dt_centers, resolution_full, yerr=resolution_err_full,\n",
    "             fmt='o', capsize=3, markersize=8., color=color_sequence[0], label='Full Volume')\n",
    "ax2.errorbar(dt_centers, resolution_small, yerr=resolution_err_small,\n",
    "             fmt='o', capsize=3, markersize=8., color=color_sequence[1], label='R < 200')\n",
    "ax2.set_xlabel('Radius [mm]')\n",
    "ax2.set_ylabel('Energy Resolution (%, FWHM)')\n",
    "ax2.grid(True, alpha=0.3)\n",
    "ax2.set_ylim(2,8)\n",
    "ax2.legend()\n",
    "\n",
    "plt.tight_layout()\n",
    "plt.show()"
   ]
  },
  {
   "cell_type": "code",
   "execution_count": null,
   "id": "d7a4859b-2c00-47f5-9a1e-21a20761fe99",
   "metadata": {},
   "outputs": [],
   "source": []
  },
  {
   "cell_type": "markdown",
   "id": "8d1d905b-6a58-4053-b1e0-a1f2eaf35e80",
   "metadata": {},
   "source": [
    "### DT Resolution Noise Correction"
   ]
  },
  {
   "cell_type": "code",
   "execution_count": null,
   "id": "309792b3-091a-45f0-812f-181a3e4ce0e8",
   "metadata": {},
   "outputs": [],
   "source": [
    "df_resonoise = pd.read_hdf(\"../db/NoiseResoEffect.h5\")"
   ]
  },
  {
   "cell_type": "code",
   "execution_count": null,
   "id": "ef660247-891e-428d-be8c-16df8998c63f",
   "metadata": {},
   "outputs": [],
   "source": [
    "# Constants\n",
    "E0 = Krdf['Epes'].mean()\n",
    "\n",
    "# Compute y values and errors\n",
    "y = 235 * df_resonoise[\"sig\"] / E0\n",
    "yerr = 235 * df_resonoise[\"usig\"] / E0\n",
    "x = df_resonoise[\"sz\"]\n",
    "\n",
    "# Plot\n",
    "plt.figure(figsize=(8, 6), dpi=120)\n",
    "\n",
    "plt.errorbar(x, y, yerr=yerr, fmt='o', markersize=10.,capsize=3, color='b')\n",
    "plt.xlabel('S2 width ($\\mu$s)')\n",
    "plt.ylabel(r'Energy Resolution (%, FWHM)')\n",
    "plt.grid(True, alpha=0.3)\n",
    "plt.tight_layout()\n",
    "plt.show()"
   ]
  },
  {
   "cell_type": "code",
   "execution_count": null,
   "id": "f14eaf8b-d65f-49ff-ae4c-2bfa4d0ca25a",
   "metadata": {},
   "outputs": [],
   "source": [
    "plt.figure(figsize=(12, 6), dpi=120)\n",
    "hist, xedges, yedges, im = plt.hist2d(Krdf['DT'], Krdf['S2w'],\n",
    "                                      bins=(120, 120),\n",
    "                                      range=([0, 1400], [0, 40]),\n",
    "                                      cmap='viridis')\n",
    "\n",
    "results = af.gaussian_profiler_y(hist, xedges, yedges)\n",
    "xdata = results[0]\n",
    "ydata = results[1]\n",
    "\n",
    "plt.errorbar(xdata, ydata, yerr=None, fmt='.', markersize=1.3, linewidth=1., color='w', label='Gauss Fit results')\n",
    "\n",
    "plt.colorbar(label='Frequency')\n",
    "plt.xlabel('DT [$\\mu$s]')\n",
    "plt.ylabel('S2w [$\\mu$s]')\n",
    "plt.title('S2w vs DT')\n",
    "plt.grid(True, alpha=0.3)"
   ]
  },
  {
   "cell_type": "code",
   "execution_count": null,
   "id": "8e38f072-0adf-4099-a464-ce4d2228015e",
   "metadata": {},
   "outputs": [],
   "source": [
    "plt.figure(figsize=(8, 6), dpi=120)\n",
    "\n",
    "# Create interpolation function: DT as a function of S2w\n",
    "interp_func = interp1d(ydata, xdata, kind='quadratic', bounds_error=False, fill_value='extrapolate')\n",
    "\n",
    "# Now transform x (S2w values) to DT values\n",
    "x_transformed = interp_func(x)  # These are now DT values\n",
    "\n",
    "plt.errorbar(x_transformed, y, yerr=yerr, fmt='o', markersize=8., capsize=3, color='b')\n",
    "plt.xlabel('Drift Time ($\\mu$s)')\n",
    "plt.ylabel(r'Energy Resolution Noise Contrib (%, FWHM)')\n",
    "plt.grid(True, alpha=0.3)\n",
    "plt.tight_layout()\n",
    "plt.xlim(0,1350)\n",
    "plt.show()"
   ]
  },
  {
   "cell_type": "code",
   "execution_count": null,
   "id": "2e9727d9-fe73-467c-a210-107d5b496b57",
   "metadata": {},
   "outputs": [],
   "source": [
    "# Create the interpolation function from EReso vs DT\n",
    "interp_func = interp1d(x_transformed, y, kind='quadratic', bounds_error=False, fill_value='extrapolate')\n",
    "\n",
    "# Interpolate at slice_centers of the EReso vs Dt Plot\n",
    "y_interp = interp_func(dt_centers)"
   ]
  },
  {
   "cell_type": "code",
   "execution_count": null,
   "id": "6af0ca32-68e6-4cd1-8866-a5c6fdd6035f",
   "metadata": {},
   "outputs": [],
   "source": [
    "# Plot Full Volume\n",
    "plt.figure(figsize=(8, 6), dpi=120)\n",
    "\n",
    "# Plot 2: Resolution vs. r_centers\n",
    "plt.errorbar(dt_centers, resolution_full, yerr=resolution_err_full,\n",
    "             fmt='o', capsize=3, markersize=8., color=color_sequence[0], label='Full Volume')\n",
    "plt.errorbar(dt_centers, resolution_small, yerr=resolution_err_small,\n",
    "             fmt='o', capsize=3, markersize=8., color=color_sequence[1], label='R < 200')\n",
    "\n",
    "# Plot interpolated values (assumed to be y_interp vs slice_centers)\n",
    "plt.errorbar(dt_centers,y_interp, yerr=0,\n",
    "    fmt='o', capsize=3, markersize=8., color=color_sequence[2], label='Full Volume')\n",
    "\n",
    "\n",
    "# Labels, legend, etc.\n",
    "plt.xlabel('Drift Time([$\\mu$s])')\n",
    "plt.ylabel('Energy Resolution (%, FWHM)')\n",
    "plt.grid(True, alpha=0.3)\n",
    "plt.legend()\n",
    "plt.ylim(0,5)\n",
    "plt.tight_layout()\n",
    "plt.show()"
   ]
  },
  {
   "cell_type": "code",
   "execution_count": null,
   "id": "dc078abe-917a-4e4f-af9d-79f707fb89ac",
   "metadata": {},
   "outputs": [],
   "source": [
    "plt.figure(figsize=(8, 6), dpi=120)\n",
    "\n",
    "# Full Volume: sqrt(mean² - y_interp²)\n",
    "res_full = np.sqrt(np.square(resolution_full) - np.square(y_interp))\n",
    "plt.errorbar(\n",
    "    dt_centers,\n",
    "    res_full,\n",
    "    yerr=resolution_err_full,\n",
    "    fmt='o', capsize=3, markersize=8.,\n",
    "    color='k',\n",
    "    label='Full Volume Corrected'\n",
    ")\n",
    "\n",
    "# Small R: sqrt(mean² - y_interp²)\n",
    "res_smallR = np.sqrt(np.square(resolution_small) - np.square(y_interp))\n",
    "plt.errorbar(\n",
    "    dt_centers,\n",
    "    res_smallR,\n",
    "    yerr=resolution_err_small,\n",
    "    fmt='o', capsize=3, markersize=8.,\n",
    "    color='m',\n",
    "    label='R < 200 Corrected'\n",
    ")\n",
    "\n",
    "# Final touches\n",
    "plt.xlabel('Drift Time ($\\mu$s)')\n",
    "plt.ylabel('Energy Resolution (%, FWHM)')\n",
    "plt.title('Noise-Subtracted Energy Resolution')\n",
    "plt.grid(True, alpha=0.3)\n",
    "plt.ylim(0,5)\n",
    "plt.legend(fontsize='small')\n",
    "plt.tight_layout()\n",
    "plt.show()"
   ]
  },
  {
   "cell_type": "markdown",
   "id": "caeda4d9-777f-4bfc-9fe2-c4f1d6cdf8f5",
   "metadata": {},
   "source": [
    "### Radial response analysis in angular sectors "
   ]
  },
  {
   "cell_type": "code",
   "execution_count": null,
   "id": "ff523279-3251-4af8-9e2a-45013b044540",
   "metadata": {},
   "outputs": [],
   "source": [
    "sector_angle = 45 #Degrees\n",
    "radial_bins_per_sector= 6 #Radial sectors along R\n",
    "\n",
    "pf.plot_circular_sectors(sector_angle, radial_bins_per_sector, dpi=120)"
   ]
  },
  {
   "cell_type": "code",
   "execution_count": null,
   "id": "c928a2f9-a5ce-48bf-a0e3-053a4bb7a4ca",
   "metadata": {},
   "outputs": [],
   "source": [
    "results, r_centers = af.response_in_sector(Krdf, sector_angle, radial_bins_per_sector)\n",
    "af.plot_response_vs_radius_insector(r_centers, results, sector_angle, stats.compute_resolution_with_error, color_sequence)"
   ]
  },
  {
   "cell_type": "markdown",
   "id": "175ace01-66c9-401f-934e-47ae6fb91c7b",
   "metadata": {},
   "source": [
    "### Lifetime"
   ]
  },
  {
   "cell_type": "code",
   "execution_count": 194,
   "id": "7246aa1c-2b2e-47b4-901c-a9cd3b366e21",
   "metadata": {},
   "outputs": [
    {
     "data": {
      "image/png": "[encoded data removed]",
      "text/plain": [
       "<Figure size 1200x720 with 2 Axes>"
      ]
     },
     "metadata": {},
     "output_type": "display_data"
    },
    {
     "data": {
      "text/plain": [
       "(34426.32083484511, 56.67352236890612)"
      ]
     },
     "execution_count": 194,
     "metadata": {},
     "output_type": "execute_result"
    }
   ],
   "source": [
    "importlib.reload(af)\n",
    "af.fit_lifetime_Rsel(Krdf)"
   ]
  },
  {
   "cell_type": "code",
   "execution_count": null,
   "id": "67a404f7-5711-46a3-869b-0484edc0ab5b",
   "metadata": {},
   "outputs": [],
   "source": []
  }
 ],
 "metadata": {
  "kernelspec": {
   "display_name": "Python 3 (ipykernel)",
   "language": "python",
   "name": "python3"
  },
  "language_info": {
   "codemirror_mode": {
    "name": "ipython",
    "version": 3
   },
   "file_extension": ".py",
   "mimetype": "text/x-python",
   "name": "python",
   "nbconvert_exporter": "python",
   "pygments_lexer": "ipython3",
   "version": "3.8.20"
  }
 },
 "nbformat": 4,
 "nbformat_minor": 5
}
