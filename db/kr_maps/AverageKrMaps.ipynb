{
 "cells": [
  {
   "cell_type": "code",
   "execution_count": 69,
   "id": "ad001013-c336-41ee-a6b8-dbea7ad3cf81",
   "metadata": {},
   "outputs": [
    {
     "data": {
      "text/plain": [
       "<module 'stats' from '/Users/samuele/Documents/Postdoc/NEXT/ASpirit/src/stats.py'>"
      ]
     },
     "execution_count": 69,
     "metadata": {},
     "output_type": "execute_result"
    }
   ],
   "source": [
    "import pandas as pd\n",
    "import os\n",
    "import sys\n",
    "import numpy as np\n",
    "import matplotlib.pyplot as plt\n",
    "from scipy.optimize import curve_fit\n",
    "from matplotlib.colors import LogNorm\n",
    "from scipy.interpolate import interp1d\n",
    "\n",
    "module_dir = os.path.abspath('../../src')  # Adjust path as needed\n",
    "sys.path.append(module_dir)\n",
    "\n",
    "from parser_fun import merge_hdfs_multi\n",
    "from plot_functions import auto_plot_style\n",
    "from plot_functions import color_sequence\n",
    "import plot_functions as pf\n",
    "\n",
    "import analysis_functions as af\n",
    "import stats\n",
    "\n",
    "#Can be removed later\n",
    "import importlib\n",
    "importlib.reload(af)\n",
    "importlib.reload(stats)\n",
    "#"
   ]
  },
  {
   "cell_type": "code",
   "execution_count": 70,
   "id": "bf2f17bb-50d3-4059-9829-a1afb32b47eb",
   "metadata": {},
   "outputs": [],
   "source": [
    "maps = [af.load_kr_map(a_file) for a_file in os.listdir('.') if a_file.endswith('.npz')]"
   ]
  },
  {
   "cell_type": "code",
   "execution_count": 71,
   "id": "016680ae-1bbe-483b-b63b-6945a1cbb2e6",
   "metadata": {},
   "outputs": [],
   "source": [
    "xedges = maps[0].xedges\n",
    "yedges = maps[0].yedges\n",
    "zedges = maps[0].zedges"
   ]
  },
  {
   "cell_type": "code",
   "execution_count": 72,
   "id": "a59b44a4-f349-42a5-9fb1-57e140a8517c",
   "metadata": {},
   "outputs": [],
   "source": [
    "map_shape = (len(xedges) - 1, len(yedges) - 1, len(zedges) - 1)\n",
    "map_counts = np.zeros(hist_shape)\n",
    "map_sum = np.zeros(hist_shape)"
   ]
  },
  {
   "cell_type": "code",
   "execution_count": 73,
   "id": "eb8708e1-b8a2-4b2f-ab89-0e852f14289b",
   "metadata": {},
   "outputs": [],
   "source": [
    "for i in range(len(maps)):\n",
    "    map_counts += maps[i].hcounts\n",
    "    map_sum += maps[i].hmap*maps[i].hratio"
   ]
  },
  {
   "cell_type": "code",
   "execution_count": 74,
   "id": "4faee497-39b5-4d56-83e6-de8cc3f6274f",
   "metadata": {},
   "outputs": [
    {
     "name": "stderr",
     "output_type": "stream",
     "text": [
      "/var/folders/pd/hx80lcqj1szc4vdz3mbmmv680000gn/T/ipykernel_84717/456157663.py:1: RuntimeWarning: invalid value encountered in true_divide\n",
      "  histo_ratio = np.where(map_counts != 0, map_sum / map_counts, 0)\n"
     ]
    }
   ],
   "source": [
    "histo_ratio = np.where(map_counts != 0, map_sum / map_counts, 0)"
   ]
  },
  {
   "cell_type": "code",
   "execution_count": 75,
   "id": "5f15481c-3cef-4a80-b34b-c047937b65c6",
   "metadata": {},
   "outputs": [],
   "source": [
    "ave_map = af.MapPar(\n",
    "    histo_ratio,\n",
    "    map_counts,\n",
    "    xedges,\n",
    "    yedges,\n",
    "    zedges\n",
    ")"
   ]
  },
  {
   "cell_type": "code",
   "execution_count": 76,
   "id": "2610f3cb-b119-4e53-989f-d585c4f7098d",
   "metadata": {},
   "outputs": [],
   "source": [
    "hmap = np.divide(ave_map.hratio, np.nanmedian(ave_map.hratio), where=ave_map.hcounts > 2)\n",
    "ave_map.hmap = hmap"
   ]
  },
  {
   "cell_type": "code",
   "execution_count": 77,
   "id": "f72d07ba-1a83-4511-abf5-196766b3fdd0",
   "metadata": {},
   "outputs": [],
   "source": [
    "af.save_kr_map(ave_map,'average_map.npz')"
   ]
  },
  {
   "cell_type": "code",
   "execution_count": null,
   "id": "16c965b8-7830-4325-8d49-5a8f4f98dbb5",
   "metadata": {},
   "outputs": [],
   "source": []
  }
 ],
 "metadata": {
  "kernelspec": {
   "display_name": "Python 3 (ipykernel)",
   "language": "python",
   "name": "python3"
  },
  "language_info": {
   "codemirror_mode": {
    "name": "ipython",
    "version": 3
   },
   "file_extension": ".py",
   "mimetype": "text/x-python",
   "name": "python",
   "nbconvert_exporter": "python",
   "pygments_lexer": "ipython3",
   "version": "3.10.14"
  }
 },
 "nbformat": 4,
 "nbformat_minor": 5
}
